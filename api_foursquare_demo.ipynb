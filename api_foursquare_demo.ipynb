{
 "cells": [
  {
   "cell_type": "code",
   "execution_count": 3,
   "metadata": {},
   "outputs": [],
   "source": [
    "import json\n",
    "import requests\n",
    "\n",
    "# Load secrets from credentials.json\n",
    "url = 'https://api.foursquare.com/v2/venues/explore'\n",
    "with open('.secrets/credentials.json') as f:\n",
    "    params = json.load(f)\n",
    "  "
   ]
  },
  {
   "cell_type": "code",
   "execution_count": 63,
   "metadata": {},
   "outputs": [],
   "source": [
    "params['v'] = '20180323'\n",
    "params['ll'] = '47.608,-122.3359',\n",
    "params['query'] = 'film',\n",
    "params['limit'] = 50\n",
    "\n",
    "response = requests.get(url=url, params=params)\n",
    "data = json.loads(response.text)"
   ]
  },
  {
   "cell_type": "code",
   "execution_count": 5,
   "metadata": {},
   "outputs": [
    {
     "data": {
      "text/plain": [
       "dict_keys(['meta', 'response'])"
      ]
     },
     "execution_count": 5,
     "metadata": {},
     "output_type": "execute_result"
    }
   ],
   "source": [
    "data.keys()"
   ]
  },
  {
   "cell_type": "code",
   "execution_count": 24,
   "metadata": {},
   "outputs": [
    {
     "data": {
      "text/plain": [
       "12"
      ]
     },
     "execution_count": 24,
     "metadata": {},
     "output_type": "execute_result"
    }
   ],
   "source": [
    "len(data['response']['groups'][0]['items'])"
   ]
  },
  {
   "cell_type": "code",
   "execution_count": 64,
   "metadata": {},
   "outputs": [],
   "source": [
    "results = data['response']['groups'][0]['items']"
   ]
  },
  {
   "cell_type": "code",
   "execution_count": 65,
   "metadata": {},
   "outputs": [],
   "source": [
    "venues = []\n",
    "venue_names = []\n",
    "venue_cats = []\n",
    "for result in results:\n",
    "    venues.append(result['venue'])\n",
    "    venue_names.append(result['venue']['name'])\n",
    "    venue_cats.append(result['venue']['categories'][0]['name'])"
   ]
  },
  {
   "cell_type": "code",
   "execution_count": 66,
   "metadata": {},
   "outputs": [
    {
     "data": {
      "text/plain": [
       "(['Movie Theater',\n",
       "  'Movie Theater',\n",
       "  'Theater',\n",
       "  'Movie Theater',\n",
       "  'Movie Theater',\n",
       "  'Pub',\n",
       "  'Art Museum',\n",
       "  'History Museum',\n",
       "  'Pharmacy',\n",
       "  'Indie Movie Theater',\n",
       "  'Movie Theater',\n",
       "  'Farmers Market',\n",
       "  'Performing Arts Venue',\n",
       "  'Bar',\n",
       "  'Food',\n",
       "  'Multiplex',\n",
       "  'Video Store',\n",
       "  'Movie Theater'],\n",
       " ['Cinerama',\n",
       "  'Big Picture Seattle',\n",
       "  'ACT Theatre',\n",
       "  'Regal Cinemas Meridian 16',\n",
       "  'Northwest Film Forum',\n",
       "  'Virginia Inn Tavern',\n",
       "  'Frye Art Museum',\n",
       "  'Klondike Gold Rush National Historical Park',\n",
       "  'Bartell Drugs',\n",
       "  'Siff Cinema at the Film Center',\n",
       "  'Community Cinema at Frye Art Museum',\n",
       "  \"Mama Angelina's Produce\",\n",
       "  'Re-Bar',\n",
       "  'The Grotto at Rendezvous',\n",
       "  'Filmi South Asia',\n",
       "  'SeeFilms Bremerton #10',\n",
       "  'Vehicle Films',\n",
       "  'Olympia Film Society'])"
      ]
     },
     "execution_count": 66,
     "metadata": {},
     "output_type": "execute_result"
    }
   ],
   "source": [
    "venue_cats, venue_names"
   ]
  },
  {
   "cell_type": "code",
   "execution_count": 28,
   "metadata": {},
   "outputs": [
    {
     "data": {
      "text/plain": [
       "<pymongo.results.InsertManyResult at 0x106611488>"
      ]
     },
     "execution_count": 28,
     "metadata": {},
     "output_type": "execute_result"
    }
   ],
   "source": [
    "import pymongo\n",
    "mc = pymongo.MongoClient()\n",
    "db = mc['foursquare']\n",
    "coll = db['pilates']\n",
    "\n",
    "coll.insert_many(venues)"
   ]
  },
  {
   "cell_type": "code",
   "execution_count": 30,
   "metadata": {},
   "outputs": [
    {
     "data": {
      "text/html": [
       "<div>\n",
       "<style scoped>\n",
       "    .dataframe tbody tr th:only-of-type {\n",
       "        vertical-align: middle;\n",
       "    }\n",
       "\n",
       "    .dataframe tbody tr th {\n",
       "        vertical-align: top;\n",
       "    }\n",
       "\n",
       "    .dataframe thead th {\n",
       "        text-align: right;\n",
       "    }\n",
       "</style>\n",
       "<table border=\"1\" class=\"dataframe\">\n",
       "  <thead>\n",
       "    <tr style=\"text-align: right;\">\n",
       "      <th></th>\n",
       "      <th>_id</th>\n",
       "      <th>beenHere</th>\n",
       "      <th>categories</th>\n",
       "      <th>contact</th>\n",
       "      <th>hereNow</th>\n",
       "      <th>id</th>\n",
       "      <th>location</th>\n",
       "      <th>name</th>\n",
       "      <th>photos</th>\n",
       "      <th>stats</th>\n",
       "      <th>venuePage</th>\n",
       "      <th>verified</th>\n",
       "    </tr>\n",
       "  </thead>\n",
       "  <tbody>\n",
       "    <tr>\n",
       "      <th>0</th>\n",
       "      <td>5cc216083fba6363ed5e2346</td>\n",
       "      <td>{'count': 0, 'lastCheckinExpiredAt': 0, 'marke...</td>\n",
       "      <td>[{'id': '4bf58dd8d48988d176941735', 'name': 'G...</td>\n",
       "      <td>{}</td>\n",
       "      <td>{'count': 0, 'summary': 'Nobody here', 'groups...</td>\n",
       "      <td>4597de79f964a5207b401fe3</td>\n",
       "      <td>{'address': '1325 6th Ave', 'crossStreet': 'at...</td>\n",
       "      <td>Washington Athletic Club</td>\n",
       "      <td>{'count': 0, 'groups': []}</td>\n",
       "      <td>{'tipCount': 0, 'usersCount': 0, 'checkinsCoun...</td>\n",
       "      <td>NaN</td>\n",
       "      <td>False</td>\n",
       "    </tr>\n",
       "    <tr>\n",
       "      <th>1</th>\n",
       "      <td>5cc216083fba6363ed5e2347</td>\n",
       "      <td>{'count': 0, 'lastCheckinExpiredAt': 0, 'marke...</td>\n",
       "      <td>[{'id': '4bf58dd8d48988d176941735', 'name': 'G...</td>\n",
       "      <td>{}</td>\n",
       "      <td>{'count': 0, 'summary': 'Nobody here', 'groups...</td>\n",
       "      <td>4a427125f964a520dea51fe3</td>\n",
       "      <td>{'address': '1813 7th Ave', 'lat': 47.61400529...</td>\n",
       "      <td>ZUM fitness</td>\n",
       "      <td>{'count': 0, 'groups': []}</td>\n",
       "      <td>{'tipCount': 0, 'usersCount': 0, 'checkinsCoun...</td>\n",
       "      <td>{'id': '63557214'}</td>\n",
       "      <td>True</td>\n",
       "    </tr>\n",
       "    <tr>\n",
       "      <th>2</th>\n",
       "      <td>5cc216083fba6363ed5e2348</td>\n",
       "      <td>{'count': 0, 'lastCheckinExpiredAt': 0, 'marke...</td>\n",
       "      <td>[{'id': '4bf58dd8d48988d176941735', 'name': 'G...</td>\n",
       "      <td>{}</td>\n",
       "      <td>{'count': 1, 'summary': 'One other person is h...</td>\n",
       "      <td>4a8c22ecf964a520090d20e3</td>\n",
       "      <td>{'address': '2020 Western Ave', 'lat': 47.6106...</td>\n",
       "      <td>Seattle Athletic Club</td>\n",
       "      <td>{'count': 0, 'groups': []}</td>\n",
       "      <td>{'tipCount': 0, 'usersCount': 0, 'checkinsCoun...</td>\n",
       "      <td>NaN</td>\n",
       "      <td>True</td>\n",
       "    </tr>\n",
       "    <tr>\n",
       "      <th>3</th>\n",
       "      <td>5cc216083fba6363ed5e2349</td>\n",
       "      <td>{'count': 0, 'lastCheckinExpiredAt': 0, 'marke...</td>\n",
       "      <td>[{'id': '5744ccdfe4b0c0459246b4b2', 'name': 'P...</td>\n",
       "      <td>{}</td>\n",
       "      <td>{'count': 0, 'summary': 'Nobody here', 'groups...</td>\n",
       "      <td>4e31dc941f6e313d8b66fa25</td>\n",
       "      <td>{'address': '314 1st Ave S', 'lat': 47.5995221...</td>\n",
       "      <td>Kinesia Pilates Studio</td>\n",
       "      <td>{'count': 0, 'groups': []}</td>\n",
       "      <td>{'tipCount': 0, 'usersCount': 0, 'checkinsCoun...</td>\n",
       "      <td>{'id': '48823099'}</td>\n",
       "      <td>True</td>\n",
       "    </tr>\n",
       "    <tr>\n",
       "      <th>4</th>\n",
       "      <td>5cc216083fba6363ed5e234a</td>\n",
       "      <td>{'count': 0, 'lastCheckinExpiredAt': 0, 'marke...</td>\n",
       "      <td>[{'id': '5744ccdfe4b0c0459246b4b2', 'name': 'P...</td>\n",
       "      <td>{}</td>\n",
       "      <td>{'count': 0, 'summary': 'Nobody here', 'groups...</td>\n",
       "      <td>4b6aff32f964a52076eb2be3</td>\n",
       "      <td>{'address': '500 E Pike St', 'lat': 47.6134092...</td>\n",
       "      <td>Element Pilates</td>\n",
       "      <td>{'count': 0, 'groups': []}</td>\n",
       "      <td>{'tipCount': 0, 'usersCount': 0, 'checkinsCoun...</td>\n",
       "      <td>NaN</td>\n",
       "      <td>False</td>\n",
       "    </tr>\n",
       "  </tbody>\n",
       "</table>\n",
       "</div>"
      ],
      "text/plain": [
       "                        _id  \\\n",
       "0  5cc216083fba6363ed5e2346   \n",
       "1  5cc216083fba6363ed5e2347   \n",
       "2  5cc216083fba6363ed5e2348   \n",
       "3  5cc216083fba6363ed5e2349   \n",
       "4  5cc216083fba6363ed5e234a   \n",
       "\n",
       "                                            beenHere  \\\n",
       "0  {'count': 0, 'lastCheckinExpiredAt': 0, 'marke...   \n",
       "1  {'count': 0, 'lastCheckinExpiredAt': 0, 'marke...   \n",
       "2  {'count': 0, 'lastCheckinExpiredAt': 0, 'marke...   \n",
       "3  {'count': 0, 'lastCheckinExpiredAt': 0, 'marke...   \n",
       "4  {'count': 0, 'lastCheckinExpiredAt': 0, 'marke...   \n",
       "\n",
       "                                          categories contact  \\\n",
       "0  [{'id': '4bf58dd8d48988d176941735', 'name': 'G...      {}   \n",
       "1  [{'id': '4bf58dd8d48988d176941735', 'name': 'G...      {}   \n",
       "2  [{'id': '4bf58dd8d48988d176941735', 'name': 'G...      {}   \n",
       "3  [{'id': '5744ccdfe4b0c0459246b4b2', 'name': 'P...      {}   \n",
       "4  [{'id': '5744ccdfe4b0c0459246b4b2', 'name': 'P...      {}   \n",
       "\n",
       "                                             hereNow  \\\n",
       "0  {'count': 0, 'summary': 'Nobody here', 'groups...   \n",
       "1  {'count': 0, 'summary': 'Nobody here', 'groups...   \n",
       "2  {'count': 1, 'summary': 'One other person is h...   \n",
       "3  {'count': 0, 'summary': 'Nobody here', 'groups...   \n",
       "4  {'count': 0, 'summary': 'Nobody here', 'groups...   \n",
       "\n",
       "                         id  \\\n",
       "0  4597de79f964a5207b401fe3   \n",
       "1  4a427125f964a520dea51fe3   \n",
       "2  4a8c22ecf964a520090d20e3   \n",
       "3  4e31dc941f6e313d8b66fa25   \n",
       "4  4b6aff32f964a52076eb2be3   \n",
       "\n",
       "                                            location  \\\n",
       "0  {'address': '1325 6th Ave', 'crossStreet': 'at...   \n",
       "1  {'address': '1813 7th Ave', 'lat': 47.61400529...   \n",
       "2  {'address': '2020 Western Ave', 'lat': 47.6106...   \n",
       "3  {'address': '314 1st Ave S', 'lat': 47.5995221...   \n",
       "4  {'address': '500 E Pike St', 'lat': 47.6134092...   \n",
       "\n",
       "                       name                      photos  \\\n",
       "0  Washington Athletic Club  {'count': 0, 'groups': []}   \n",
       "1               ZUM fitness  {'count': 0, 'groups': []}   \n",
       "2     Seattle Athletic Club  {'count': 0, 'groups': []}   \n",
       "3    Kinesia Pilates Studio  {'count': 0, 'groups': []}   \n",
       "4           Element Pilates  {'count': 0, 'groups': []}   \n",
       "\n",
       "                                               stats           venuePage  \\\n",
       "0  {'tipCount': 0, 'usersCount': 0, 'checkinsCoun...                 NaN   \n",
       "1  {'tipCount': 0, 'usersCount': 0, 'checkinsCoun...  {'id': '63557214'}   \n",
       "2  {'tipCount': 0, 'usersCount': 0, 'checkinsCoun...                 NaN   \n",
       "3  {'tipCount': 0, 'usersCount': 0, 'checkinsCoun...  {'id': '48823099'}   \n",
       "4  {'tipCount': 0, 'usersCount': 0, 'checkinsCoun...                 NaN   \n",
       "\n",
       "   verified  \n",
       "0     False  \n",
       "1      True  \n",
       "2      True  \n",
       "3      True  \n",
       "4     False  "
      ]
     },
     "execution_count": 30,
     "metadata": {},
     "output_type": "execute_result"
    }
   ],
   "source": [
    "import pandas as pd\n",
    "pd.DataFrame(venues).head()"
   ]
  },
  {
   "cell_type": "code",
   "execution_count": null,
   "metadata": {},
   "outputs": [],
   "source": []
  }
 ],
 "metadata": {
  "kernelspec": {
   "display_name": "Python 3",
   "language": "python",
   "name": "python3"
  },
  "language_info": {
   "codemirror_mode": {
    "name": "ipython",
    "version": 3
   },
   "file_extension": ".py",
   "mimetype": "text/x-python",
   "name": "python",
   "nbconvert_exporter": "python",
   "pygments_lexer": "ipython3",
   "version": "3.7.1"
  }
 },
 "nbformat": 4,
 "nbformat_minor": 2
}
